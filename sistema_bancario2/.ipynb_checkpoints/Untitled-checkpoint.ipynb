{
 "cells": [
  {
   "cell_type": "markdown",
   "metadata": {},
   "source": [
    "# Desafio Dio - Sistema Bancário\n",
    "\n",
    "Criar um sistema bancário com as operações: sacar, depositar e visualizar extrato.\n",
    "\n",
    "Fomos contratados por um grande banco para desenvolver o\n",
    "seu novo sistema. Esse banco deseja modernizar suas\n",
    "operações e para isso escolheu a linguagem Python. Para a\n",
    "primeira versão do sistema devemos implementar apenas 3\n",
    "operações: depósito, saque e extrato\n",
    "\n",
    "### Operação de Depósito\n",
    "Deve ser possível depositar valores positivos para a minha\n",
    "conta bancária. A v1 do projeto trabalha apenas com **1 usuário**,\n",
    "dessa forma não precisamos nos preocupar em identificar qual\n",
    "é o número da agência e conta bancária. Todos os depósitos\n",
    "devem ser armazenados em uma variável e exibidos na\n",
    "operação de extrato.\n",
    "\n",
    "### Operação de Saque\n",
    "O sistema deve permitir realizar 3 saques diários com limite\n",
    "máximo de R$ 500,00 por saque. Caso o usuário não tenha\n",
    "saldo em conta, o sistema deve exibir uma mensagem\n",
    "informando que não será possível sacar o dinheiro por falta de\n",
    "saldo. Todos os saques devem ser armazenados em uma\n",
    "variável e exibidos na operação de extrato.\n",
    "\n",
    "\n",
    "\n"
   ]
  },
  {
   "cell_type": "markdown",
   "metadata": {},
   "source": [
    "### Operação de Extrato\n",
    "Essa operação deve listar todos os depósitos e saques\n",
    "realizados na conta. No fim da listagem deve ser exibido o\n",
    "saldo atual da conta. Se o extrato estiver em branco, exibir a\n",
    "mensagem: Não foram realizadas movimentações.\n",
    "Os valores devem ser exibidos utilizando o formato R$ xxx.xx,\n",
    "exemplo:\n",
    "1500.45 = R$ 1500.45\n"
   ]
  },
  {
   "cell_type": "code",
   "execution_count": 4,
   "metadata": {},
   "outputs": [],
   "source": [
    "class SistemaBancario():\n",
    "    \n",
    "    def __init__(self, saldo = 0, deposito = 0, _deposito = 0, saque = 0, _saque = 0):\n",
    "        self.saldo = saldo\n",
    "        self.deposito = deposito\n",
    "        self._deposito = _deposito\n",
    "        self.saque = saque\n",
    "        self._saque = _saque\n",
    "        #self.numSaques = numSaques\n",
    "\n",
    "    @property\n",
    "    def deposito(self):\n",
    "        return self._deposito\n",
    "    @deposito.setter\n",
    "    def deposito(self, valor):\n",
    "        if valor > 0:\n",
    "            self._deposito = valor\n",
    "            self.saldo += self._deposito\n",
    "            return\n",
    "    def depositar(self):      \n",
    "        self.saldo\n",
    "        return\n",
    "    \n",
    "    @property\n",
    "    def saque(self):\n",
    "        return self._saque\n",
    "    @saque.setter\n",
    "    def saque(self, valor):\n",
    "        if valor > 500 or valor < 1:\n",
    "            self._saque = valor\n",
    "            return\n",
    "    def sacar(self):\n",
    "        self.saldo -= self._saque\n",
    "        print(f'O saldo atual é {self.saldo}')\n",
    "        return\n",
    "    "
   ]
  },
  {
   "cell_type": "code",
   "execution_count": 7,
   "metadata": {},
   "outputs": [],
   "source": [
    " menu = \"\"\"\"\n",
    "\n",
    "=============== MENU ===============\n",
    "    \n",
    "    print(f's - Saque')\n",
    "    print(f'e - Extrato')\n",
    "    print(f'sr - Sair')\n",
    "\"\"\"\"    \n",
    "    valor = 0\n",
    "    back = False\n",
    "    \n",
    "    while True:\n",
    "        \n",
    "        esc = input('Digite a opção de acordo com a ação desejada: ')\n",
    "        op = SistemaBancario()\n",
    "        \n",
    "        if esc == 'd':           \n",
    "            valor1 = float(input('Digite o valor desejado: R$ '))\n",
    "            op = SistemaBancario(valor1)\n",
    "            op.depositar()\n",
    "            \n",
    "        if esc == 's':           \n",
    "            valor2 = float(input('Digite o valor desejado: R$ '))\n",
    "            op = SistemaBancario(valor2)\n",
    "            op.sacar()\n",
    "            \n",
    "       "
   ]
  },
  {
   "cell_type": "code",
   "execution_count": null,
   "metadata": {},
   "outputs": [
    {
     "name": "stdout",
     "output_type": "stream",
     "text": [
      "=============== MENU =============== \n",
      "d - Depósito\n",
      "s - Saque\n",
      "e - Extrato\n",
      "sr - Sair\n",
      "Digite a opção de acordo com a ação desejada: d\n",
      "Digite o valor desejado: R$ 30\n",
      "Digite a opção de acordo com a ação desejada: sr\n"
     ]
    }
   ],
   "source": [
    "menu()\n"
   ]
  },
  {
   "cell_type": "code",
   "execution_count": null,
   "metadata": {},
   "outputs": [],
   "source": []
  }
 ],
 "metadata": {
  "kernelspec": {
   "display_name": "Python 3",
   "language": "python",
   "name": "python3"
  },
  "language_info": {
   "codemirror_mode": {
    "name": "ipython",
    "version": 3
   },
   "file_extension": ".py",
   "mimetype": "text/x-python",
   "name": "python",
   "nbconvert_exporter": "python",
   "pygments_lexer": "ipython3",
   "version": "3.7.3"
  }
 },
 "nbformat": 4,
 "nbformat_minor": 2
}
