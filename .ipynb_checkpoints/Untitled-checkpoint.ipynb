{
 "cells": [
  {
   "cell_type": "markdown",
   "metadata": {},
   "source": [
    "# Desafio Dio - Sistema Bancário\n",
    "\n",
    "Criar um sistema bancário com as operações: sacar, depositar e visualizar extrato.\n",
    "\n",
    "Fomos contratados por um grande banco para desenvolver o\n",
    "seu novo sistema. Esse banco deseja modernizar suas\n",
    "operações e para isso escolheu a linguagem Python. Para a\n",
    "primeira versão do sistema devemos implementar apenas 3\n",
    "operações: depósito, saque e extrato\n",
    "\n",
    "### Operação de Depósito\n",
    "Deve ser possível depositar valores positivos para a minha\n",
    "conta bancária. A v1 do projeto trabalha apenas com **1 usuário**,\n",
    "dessa forma não precisamos nos preocupar em identificar qual\n",
    "é o número da agência e conta bancária. Todos os depósitos\n",
    "devem ser armazenados em uma variável e exibidos na\n",
    "operação de extrato.\n",
    "\n",
    "### Operação de Saque\n",
    "O sistema deve permitir realizar 3 saques diários com limite\n",
    "máximo de R$ 500,00 por saque. Caso o usuário não tenha\n",
    "saldo em conta, o sistema deve exibir uma mensagem\n",
    "informando que não será possível sacar o dinheiro por falta de\n",
    "saldo. Todos os saques devem ser armazenados em uma\n",
    "variável e exibidos na operação de extrato.\n",
    "\n",
    "\n",
    "\n"
   ]
  },
  {
   "cell_type": "markdown",
   "metadata": {},
   "source": [
    "### Operação de Extrato\n",
    "Essa operação deve listar todos os depósitos e saques\n",
    "realizados na conta. No fim da listagem deve ser exibido o\n",
    "saldo atual da conta. Se o extrato estiver em branco, exibir a\n",
    "mensagem: Não foram realizadas movimentações.\n",
    "Os valores devem ser exibidos utilizando o formato R$ xxx.xx,\n",
    "exemplo:\n",
    "1500.45 = R$ 1500.45\n"
   ]
  },
  {
   "cell_type": "code",
   "execution_count": null,
   "metadata": {},
   "outputs": [],
   "source": [
    "class SistemaBancario:\n",
    "    def init(self, valor: float, saldo: float,limiteSaque: float, numSaques: int, extrato: str):\n",
    "        \n",
    "        self.valor = valor\n",
    "        self.saldo = saldo\n",
    "        self.numSaques = numSaques\n",
    "        self.limiteSaque = limiteSaque\n",
    "        self.extrato = extrato\n",
    "        \n",
    "        \n",
    "    def op_deposito(self):\n",
    "        \n",
    "        self.saldo += valor if valor >= 0 else print(f\"ERRO! Digite valores maior que 0.\")\n",
    "        self.extrato += f\"Depósito: + R$ {format(self.valor, 2)}\\n\"\n",
    "    \n",
    "    def op_saque(self):\n",
    "        \n",
    "        self.limiteSaque = 500.00\n",
    "        valorExcedido = self.valor > self.limiteSaque\n",
    "        semSaldo = self.saldo <= 0\n",
    "        saquesExcedidos = self.numSaques > 2\n",
    "        \n",
    "        if valorExcedido:\n",
    "            return f\"O valor máximo para saque é R$ 500,00. Por favor, digite um valor menor.\"\n",
    "        elif semSaldo:\n",
    "            return f\"Você não possui saldo disponível para esse saque.\"\n",
    "        elif saquesExcedidos:\n",
    "            return f\"O limite de saques diários foi atingido.\"\n",
    "        else:\n",
    "            self.saldo -= self.valor\n",
    "            self.numSaques += 1\n",
    "            self.extrato += f\"Saque: - R$ {format(self.valor, 2)}\\n\"\n",
    "    \n",
    "    def op_extrato(self):\n",
    "        print(f\"\\n============ Extrato ===========\")\n",
    "        print(f\"Não foram realizadas movimentações\") if not self.extrato else extrato\n",
    "        print(f\"Saldo atual: R$ {format(self.saldo, 2)}\\n\")\n",
    "        "
   ]
  },
  {
   "cell_type": "code",
   "execution_count": null,
   "metadata": {},
   "outputs": [],
   "source": [
    "def menu():\n",
    "    \n",
    "    print(f\"======================= Menu ========================\")\n",
    "    op = input(f\"Digite um número de acordo com a ação desejada: \")\n",
    "    print(f\" a - Depósito\")\n",
    "    print(f\" b - Saque\")\n",
    "    print(f\" c - Extrato\")\n",
    "    print(f\" d - Sair\")\n",
    "    print(f\"======================================================\")\n",
    "    \n",
    "    \n",
    "    while True:       \n",
    "        if op == \"a\":\n",
    "            acao1 = SistemaBancario()\n",
    "            acao1.op_deposito()\n",
    "        elif op == \"b\":\n",
    "            acao2 = SistemaBancario(valor = input(f\"Digite o valor desejado para saque: \"))\n",
    "            acao2.op_saque()\n",
    "        elif op == \"c\":\n",
    "            acao3 = SistemaBancario(extrato)\n",
    "            acao3.op_extrato\n",
    "        elif op == \"d\":\n",
    "            break\n",
    "        else:\n",
    "            print(f\"Caracter inválido!\")       \n",
    "\n"
   ]
  },
  {
   "cell_type": "code",
   "execution_count": null,
   "metadata": {},
   "outputs": [],
   "source": [
    "menu()"
   ]
  }
 ],
 "metadata": {
  "kernelspec": {
   "display_name": "Python 3",
   "language": "python",
   "name": "python3"
  },
  "language_info": {
   "codemirror_mode": {
    "name": "ipython",
    "version": 3
   },
   "file_extension": ".py",
   "mimetype": "text/x-python",
   "name": "python",
   "nbconvert_exporter": "python",
   "pygments_lexer": "ipython3",
   "version": "3.7.3"
  }
 },
 "nbformat": 4,
 "nbformat_minor": 2
}
